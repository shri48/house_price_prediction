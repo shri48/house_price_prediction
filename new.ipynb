{
 "cells": [
  {
   "cell_type": "code",
   "execution_count": 1,
   "source": [
    "print(\"Hello\")"
   ],
   "outputs": [
    {
     "output_type": "stream",
     "name": "stdout",
     "text": [
      "Hello\n"
     ]
    }
   ],
   "metadata": {}
  },
  {
   "cell_type": "code",
   "execution_count": 2,
   "source": [
    "import pandas as pd\r\n",
    "df=pd.read_csv('clean_data.csv')\r\n",
    "df.columns"
   ],
   "outputs": [
    {
     "output_type": "execute_result",
     "data": {
      "text/plain": [
       "Index(['total_sqft', 'bath', 'balcony', 'price', 'BHK',\n",
       "       'area_type_Carpet  Area', 'area_type_Plot  Area',\n",
       "       'area_type_Super built-up  Area', 'location_ Banaswadi',\n",
       "       'location_ Basavangudi',\n",
       "       ...\n",
       "       'location_rr nagar', 'location_sankeswari',\n",
       "       'location_sapthagiri Layout', 'location_sarjapura main road',\n",
       "       'location_singapura paradise', 'location_t.c palya',\n",
       "       'location_tc.palya', 'location_vinayakanagar',\n",
       "       'location_white field,kadugodi', 'location_whitefiled'],\n",
       "      dtype='object', length=1304)"
      ]
     },
     "metadata": {},
     "execution_count": 2
    }
   ],
   "metadata": {}
  }
 ],
 "metadata": {
  "orig_nbformat": 4,
  "language_info": {
   "name": "python",
   "version": "3.9.5",
   "mimetype": "text/x-python",
   "codemirror_mode": {
    "name": "ipython",
    "version": 3
   },
   "pygments_lexer": "ipython3",
   "nbconvert_exporter": "python",
   "file_extension": ".py"
  },
  "kernelspec": {
   "name": "python3",
   "display_name": "Python 3.9.5 64-bit"
  },
  "interpreter": {
   "hash": "029b1b306838bf5288e6b68ff07fb18256001062395074794cf174a63517c4d1"
  }
 },
 "nbformat": 4,
 "nbformat_minor": 2
}